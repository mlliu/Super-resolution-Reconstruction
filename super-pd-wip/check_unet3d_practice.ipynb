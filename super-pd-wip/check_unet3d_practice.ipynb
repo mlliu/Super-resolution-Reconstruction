{
 "cells": [
  {
   "cell_type": "code",
   "execution_count": 13,
   "id": "d3dd67f2",
   "metadata": {},
   "outputs": [
    {
     "name": "stdout",
     "output_type": "stream",
     "text": [
      "Num GPUs Available:  0\n"
     ]
    }
   ],
   "source": [
    "import tifffile\n",
    "import tensorflow as tf\n",
    "from keras.callbacks import ModelCheckpoint, EarlyStopping\n",
    "\n",
    "from tensorflow.keras.optimizers import SGD, Adam\n",
    "\n",
    "\n",
    "from models import *\n",
    "from utils import *\n",
    "import matplotlib.pyplot as plt\n",
    "from keras.preprocessing.image import ImageDataGenerator\n",
    "#import tensorflow as tf\n",
    "print(\"Num GPUs Available: \", len(tf.config.list_physical_devices('GPU')))\n",
    "\n",
    "\"\"\"\n",
    "key simulation parameters (begin)\n",
    "##############################################################################\n",
    "\"\"\"\n",
    "combomatrix = [128, 128, 64, 64, 64, 32, 9, 100, 100, 64, False]\n",
    "'''\n",
    " in form [blksz_3d[0],           block size in row direction (pixel units)\n",
    "             blksz_3d[1],           block size in column direction (pixel units)\n",
    "             blksz_3d[2],           block size in slice direction (pixel units)\n",
    "             stride_3d[0],          stride of block selection in row direction (pixel units)\n",
    "             stride_3d[1],          stride of block selection in column direction (pixel units)\n",
    "             stride_3d[2],          stride of block selection in slice direction (pixel units)\n",
    "             patch_select_mode,     block selection mode (see compute_metric_volume_3d() function in utils.py)\n",
    "             patches_per_set_h,     number of high signal/edge training blocks per volume\n",
    "             patches_per_set_l,     number of low signal training blocks per volume\n",
    "             unet_start_ch,         number of starting channels for the U-Net\n",
    "             unet_resnet_mode]      residual learning mode for the U-Net to predict the difference; (default == False)\n",
    "'''\n",
    "\n",
    "# test mode options\n",
    "testmode = False  # test by training/predicting the first case only for one reduction factor\n",
    "testmode_epochs = False  # limits the number of epochs\n",
    "\n",
    "# basic inputs/parameters\n",
    "#reduction_list = [3] if testmode else [2, 3, 4, 5, 6]  # resolution reduction factors to train/predict\n",
    "proj_direction = 0  # projection direction for training; 0: no projection, 1: lateral projection, 2: frontal projection\n",
    "loss_function = 'ssim_loss'  # 'ssim_loss'\n",
    "sleep_when_done = False if testmode else True  # sleep computer when finished\n",
    "patches_from_volume = True  # False: patches selected from each slice; True: patches selected from whole volume\n",
    "data_augm_factor = 1  # 1, 2, 4, or 8 are options for residual net\n",
    "#data_augm_factor = set_augmentation_factor_for_3D_net(data_augm_factor)  # set augmentation factor to 1,2,4 or 8\n",
    "optimizers = 'adam'  # ['adam', 'sgd']\n",
    "leave_one_out_train = False  # performs training using a leave one out scheme\n",
    "lr = 0.0001 #learning rate"
   ]
  },
  {
   "cell_type": "code",
   "execution_count": 14,
   "id": "8d35fad1",
   "metadata": {},
   "outputs": [
    {
     "name": "stdout",
     "output_type": "stream",
     "text": [
      "srcfiles size 5\n",
      "tgtfiles size 5\n"
     ]
    }
   ],
   "source": [
    "#for b_index in combomatrix:  # loop over reconstructions to perform\n",
    "# input channels for UNets\n",
    "input_ch = combomatrix[2]\n",
    "\n",
    "patch_select_mode = combomatrix[6]  # set patch selection mode\n",
    "try:\n",
    "    patches_per_set_h = combomatrix[7]  # set number of high intensity patches selected from each dataset\n",
    "    patches_per_set_l = combomatrix[8]  # set number of random intensity patches selected from each dataset\n",
    "except:\n",
    "    patches_per_set_h = 500  # set number of high intensity patches selected from each dataset\n",
    "    patches_per_set_l = 500  # set number of random intensity patches selected from each dataset\n",
    "patches_per_set = patches_per_set_h + patches_per_set_l\n",
    "try:\n",
    "    unet_resnet_mode = combomatrix[10]\n",
    "except:\n",
    "    unet_resnet_mode = False\n",
    "\n",
    "# construct folder name where models are\n",
    "if loss_function == \"mean_squared_error\":\n",
    "    foldersuffix = '_' + str(data_augm_factor) + 'aug_proj' + str(proj_direction) + 'psm' + str(\n",
    "        patch_select_mode) + \"_\" + \"mse\"\n",
    "else:\n",
    "    foldersuffix = '_' + str(data_augm_factor) + 'aug_proj' + str(proj_direction) + 'psm' + str(\n",
    "        patch_select_mode) + \"_\" + loss_function\n",
    "\n",
    "#for optim in optimizers:  # loop through optimizers\n",
    "nepochs = 2 if testmode_epochs else 200  # number of epochs to train for\n",
    "batch_size_train = 20 #if b_index[0] == 32 else 32 // b_index[0] * 20\n",
    "\n",
    "blksz_3d = combomatrix[0], combomatrix[1], combomatrix[2]  # block size in pixels that is used to train the model\n",
    "stride_3d = combomatrix[3], combomatrix[4], combomatrix[5]  # stride size in pixels that is used to train the model\n",
    "\n",
    "# U-net related inputs/parameters\n",
    "try:\n",
    "    unet_start_ch = combomatrix[9]\n",
    "except:\n",
    "    unet_start_ch = 16  # number of starting channels\n",
    "unet_depth = 4 if combomatrix[0] ** 0.25 >= 2 else 3  # depth (i.e. # of max pooling steps)\n",
    "unet_inc_rate = 2  # channel increase rate\n",
    "unet_dropout = 0.5  # dropout rate\n",
    "unet_batchnorm = False  # batch normalization mode\n",
    "unet_residual = False  # residual connections mode\n",
    "unet_batchnorm_str = 'F' if not unet_batchnorm else 'T'\n",
    "unet_residual_str = 'F' if not unet_residual else 'T'\n",
    "\n",
    "n_edge_after_proj = 0  # the edge images not used after proj_direction\n",
    "\n",
    "blks_rand_shift_mode = False\n",
    "training_patience = 3\n",
    "n_slices_exclude = 4  # number of edge slices to not train from (default value is zero)\n",
    "\n",
    "subset_train_mode = False  # flag that allows to only to train from a subset of slices from the full volume\n",
    "subset_train_minslc = 1  # training subset mode - minimum slice\n",
    "subset_train_maxslc = 500  # training subset mode - maximum slice\n",
    "\n",
    "# factors for additional in-plane (i.e. x and y) cropping of volumes during training phase\n",
    "crop_train_x = 1 #0.50 if patches_from_volume else 1\n",
    "crop_train_y = 1 #0.50 if patches_from_volume else 0.6\n",
    "\n",
    "###############################################################################\n",
    "# find distinct data sets\n",
    "###############################################################################\n",
    "# script_path = os.path.split(os.path.abspath(__file__))[0]\n",
    "script_path =os.getcwd()\n",
    "dirtarget = os.path.join(script_path, \"../../ARIC/pd_wip/wip_registration_nifti/train\")\n",
    "#dirsource = \"data/train/CentreSquare15p25Mask\"\n",
    "dirsource = os.path.join(script_path, \"../../ARIC/pd_wip/pd_nifti_final/train\")\n",
    "#dirtarget = \"data/train/anat1\"\n",
    "try:\n",
    "    srcfiles, tgtfiles = get_source_and_target_files(dirsource, dirtarget)\n",
    "    srcfiles.sort()\n",
    "    tgtfiles.sort()\n",
    "    #select 10 for tiny training\n",
    "    srcfiles=srcfiles[0:5]\n",
    "    tgtfiles=tgtfiles[0:5]\n",
    "    print(\"srcfiles size\",len(srcfiles))\n",
    "    print(\"tgtfiles size\",len(tgtfiles))\n",
    "except:\n",
    "    print('could not find', reduction, 'source or target files so skipping')\n"
   ]
  },
  {
   "cell_type": "code",
   "execution_count": 15,
   "id": "91f366a8",
   "metadata": {},
   "outputs": [
    {
     "name": "stdout",
     "output_type": "stream",
     "text": [
      "couldn't find  /Users/meililiu/Desktop/Course/medical_image/code/super-pd-wip/train_unet3d_adam_batch20_1aug_proj0psm9_ssim_loss/model_128x128x64x200(100)(100)x1_unet3d-[64x64x32]-psm9-64-4-2-0.5-F-F-batch20.json\n"
     ]
    }
   ],
   "source": [
    "###############################################################################\n",
    "# check if we've already trained the model; if no, train it, if yes, load it from disk\n",
    "###############################################################################\n",
    "rstr = \"res\" if unet_resnet_mode else \"\"\n",
    "modelsuffix = \"_unet3d\" + rstr + \"-\" + \"[\" + str(stride_3d[0]) + 'x' + str(stride_3d[1]) + 'x' + str(\n",
    "    stride_3d[2]) + \"]-psm\" + str(patch_select_mode) + \"-\" + str(unet_start_ch) + \"-\" + str(\n",
    "    unet_depth) + \"-\" + str(unet_inc_rate) + \"-\" + str(\n",
    "    unet_dropout) + \"-\" + unet_batchnorm_str + \"-\" + unet_residual_str + '-batch' + str(batch_size_train)\n",
    "modelprefix = \"model_\" + str(blksz_3d[0]) + \"x\" + str(blksz_3d[1]) + \"x\" + str(blksz_3d[2]) + \"x\" + str(\n",
    "    patches_per_set) + \"(\" + str(patches_per_set_h) + \")(\" + str(patches_per_set_l) + \")x\" + str(\n",
    "    data_augm_factor)\n",
    "\n",
    "# check if we need to train more models and set the training_needed_flag, as well as return the list for leave one out training mode\n",
    "outpath = 'train_' + 'unet3d' + rstr + '_' + optimizers  + '_batch' + str(\n",
    "    batch_size_train) + foldersuffix\n",
    "\n",
    "#script_path = os.path.split(os.path.abspath(__file__))[0]\n",
    "dirmodel = os.path.join(script_path, outpath)\n",
    "if not os.path.exists(dirmodel):\n",
    "    os.makedirs(dirmodel)\n",
    "\n",
    "training_needed_flag = should_we_train_network(\n",
    "    os.path.join(dirmodel, modelprefix + modelsuffix), srcfiles)"
   ]
  },
  {
   "cell_type": "code",
   "execution_count": 16,
   "id": "9346c1ff",
   "metadata": {},
   "outputs": [
    {
     "name": "stdout",
     "output_type": "stream",
     "text": [
      "model not found for sets  so must train it\n",
      "training data found, so just load it\n",
      "loaded xtrain_master_noaug_unet3d_3dto3d_128x128x64_200(100)(100)_psm9.npy shape:  (1000, 128, 128, 64, 1)\n",
      "loaded ytrain_master_noaug_unet3d_3dto3d_128x128x64_200(100)(100)_psm9.npy shape:  (1000, 128, 128, 64, 1)\n",
      " \n",
      "using all data to train network\n",
      "(128, 128, 64, 1)\n",
      "m KerasTensor(type_spec=TensorSpec(shape=(None, 128, 128, 64, 1), dtype=tf.float32, name='input_3'), name='input_3', description=\"created by layer 'input_3'\")\n",
      "dim 64\n",
      "m KerasTensor(type_spec=TensorSpec(shape=(None, 64, 64, 32, 64), dtype=tf.float32, name=None), name='max_pooling3d_8/MaxPool3D:0', description=\"created by layer 'max_pooling3d_8'\")\n",
      "dim 128\n",
      "m KerasTensor(type_spec=TensorSpec(shape=(None, 32, 32, 16, 128), dtype=tf.float32, name=None), name='max_pooling3d_9/MaxPool3D:0', description=\"created by layer 'max_pooling3d_9'\")\n",
      "dim 256\n",
      "m KerasTensor(type_spec=TensorSpec(shape=(None, 16, 16, 8, 256), dtype=tf.float32, name=None), name='max_pooling3d_10/MaxPool3D:0', description=\"created by layer 'max_pooling3d_10'\")\n",
      "dim 512\n",
      "m KerasTensor(type_spec=TensorSpec(shape=(None, 8, 8, 4, 512), dtype=tf.float32, name=None), name='max_pooling3d_11/MaxPool3D:0', description=\"created by layer 'max_pooling3d_11'\")\n",
      "dim 1024\n",
      "2\n",
      "2\n",
      "2\n",
      "2\n",
      "Model: \"model_2\"\n",
      "__________________________________________________________________________________________________\n",
      " Layer (type)                   Output Shape         Param #     Connected to                     \n",
      "==================================================================================================\n",
      " input_3 (InputLayer)           [(None, 128, 128, 6  0           []                               \n",
      "                                4, 1)]                                                            \n",
      "                                                                                                  \n",
      " conv3d_38 (Conv3D)             (None, 128, 128, 64  37504       ['input_3[0][0]']                \n",
      "                                , 64)                                                             \n",
      "                                                                                                  \n",
      " conv3d_39 (Conv3D)             (None, 128, 128, 64  2396224     ['conv3d_38[0][0]']              \n",
      "                                , 64)                                                             \n",
      "                                                                                                  \n",
      " max_pooling3d_8 (MaxPooling3D)  (None, 64, 64, 32,   0          ['conv3d_39[0][0]']              \n",
      "                                64)                                                               \n",
      "                                                                                                  \n",
      " conv3d_40 (Conv3D)             (None, 64, 64, 32,   2433152     ['max_pooling3d_8[0][0]']        \n",
      "                                128)                                                              \n",
      "                                                                                                  \n",
      " conv3d_41 (Conv3D)             (None, 64, 64, 32,   4866176     ['conv3d_40[0][0]']              \n",
      "                                128)                                                              \n",
      "                                                                                                  \n",
      " max_pooling3d_9 (MaxPooling3D)  (None, 32, 32, 16,   0          ['conv3d_41[0][0]']              \n",
      "                                128)                                                              \n",
      "                                                                                                  \n",
      " conv3d_42 (Conv3D)             (None, 32, 32, 16,   5013760     ['max_pooling3d_9[0][0]']        \n",
      "                                256)                                                              \n",
      "                                                                                                  \n",
      " conv3d_43 (Conv3D)             (None, 32, 32, 16,   10027264    ['conv3d_42[0][0]']              \n",
      "                                256)                                                              \n",
      "                                                                                                  \n",
      " max_pooling3d_10 (MaxPooling3D  (None, 16, 16, 8, 2  0          ['conv3d_43[0][0]']              \n",
      " )                              56)                                                               \n",
      "                                                                                                  \n",
      " conv3d_44 (Conv3D)             (None, 16, 16, 8, 5  10617344    ['max_pooling3d_10[0][0]']       \n",
      "                                12)                                                               \n",
      "                                                                                                  \n",
      " conv3d_45 (Conv3D)             (None, 16, 16, 8, 5  21234176    ['conv3d_44[0][0]']              \n",
      "                                12)                                                               \n",
      "                                                                                                  \n",
      " max_pooling3d_11 (MaxPooling3D  (None, 8, 8, 4, 512  0          ['conv3d_45[0][0]']              \n",
      " )                              )                                                                 \n",
      "                                                                                                  \n",
      " conv3d_46 (Conv3D)             (None, 8, 8, 4, 102  23593984    ['max_pooling3d_11[0][0]']       \n",
      "                                4)                                                                \n",
      "                                                                                                  \n",
      " dropout_2 (Dropout)            (None, 8, 8, 4, 102  0           ['conv3d_46[0][0]']              \n",
      "                                4)                                                                \n",
      "                                                                                                  \n",
      " conv3d_47 (Conv3D)             (None, 8, 8, 4, 102  47186944    ['dropout_2[0][0]']              \n",
      "                                4)                                                                \n",
      "                                                                                                  \n",
      " conv3d_transpose_8 (Conv3DTran  (None, 16, 16, 8, 5  14156288   ['conv3d_47[0][0]']              \n",
      " spose)                         12)                                                               \n",
      "                                                                                                  \n",
      " concatenate_8 (Concatenate)    (None, 16, 16, 8, 1  0           ['conv3d_45[0][0]',              \n",
      "                                024)                              'conv3d_transpose_8[0][0]']     \n",
      "                                                                                                  \n",
      " conv3d_48 (Conv3D)             (None, 16, 16, 8, 5  42467840    ['concatenate_8[0][0]']          \n",
      "                                12)                                                               \n",
      "                                                                                                  \n",
      " conv3d_49 (Conv3D)             (None, 16, 16, 8, 5  21234176    ['conv3d_48[0][0]']              \n",
      "                                12)                                                               \n",
      "                                                                                                  \n",
      " conv3d_transpose_9 (Conv3DTran  (None, 32, 32, 16,   3539200    ['conv3d_49[0][0]']              \n",
      " spose)                         256)                                                              \n",
      "                                                                                                  \n",
      " concatenate_9 (Concatenate)    (None, 32, 32, 16,   0           ['conv3d_43[0][0]',              \n",
      "                                512)                              'conv3d_transpose_9[0][0]']     \n",
      "                                                                                                  \n",
      " conv3d_50 (Conv3D)             (None, 32, 32, 16,   20054272    ['concatenate_9[0][0]']          \n"
     ]
    },
    {
     "name": "stdout",
     "output_type": "stream",
     "text": [
      "                                256)                                                              \n",
      "                                                                                                  \n",
      " conv3d_51 (Conv3D)             (None, 32, 32, 16,   10027264    ['conv3d_50[0][0]']              \n",
      "                                256)                                                              \n",
      "                                                                                                  \n",
      " conv3d_transpose_10 (Conv3DTra  (None, 64, 64, 32,   884864     ['conv3d_51[0][0]']              \n",
      " nspose)                        128)                                                              \n",
      "                                                                                                  \n",
      " concatenate_10 (Concatenate)   (None, 64, 64, 32,   0           ['conv3d_41[0][0]',              \n",
      "                                256)                              'conv3d_transpose_10[0][0]']    \n",
      "                                                                                                  \n",
      " conv3d_52 (Conv3D)             (None, 64, 64, 32,   9732224     ['concatenate_10[0][0]']         \n",
      "                                128)                                                              \n",
      "                                                                                                  \n",
      " conv3d_53 (Conv3D)             (None, 64, 64, 32,   4866176     ['conv3d_52[0][0]']              \n",
      "                                128)                                                              \n",
      "                                                                                                  \n",
      " conv3d_transpose_11 (Conv3DTra  (None, 128, 128, 64  221248     ['conv3d_53[0][0]']              \n",
      " nspose)                        , 64)                                                             \n",
      "                                                                                                  \n",
      " concatenate_11 (Concatenate)   (None, 128, 128, 64  0           ['conv3d_39[0][0]',              \n",
      "                                , 128)                            'conv3d_transpose_11[0][0]']    \n",
      "                                                                                                  \n",
      " conv3d_54 (Conv3D)             (None, 128, 128, 64  4792384     ['concatenate_11[0][0]']         \n",
      "                                , 64)                                                             \n",
      "                                                                                                  \n",
      " conv3d_55 (Conv3D)             (None, 128, 128, 64  2396224     ['conv3d_54[0][0]']              \n",
      "                                , 64)                                                             \n",
      "                                                                                                  \n",
      " conv3d_56 (Conv3D)             (None, 128, 128, 64  65          ['conv3d_55[0][0]']              \n",
      "                                , 1)                                                              \n",
      "                                                                                                  \n",
      "==================================================================================================\n",
      "Total params: 261,778,753\n",
      "Trainable params: 261,778,753\n",
      "Non-trainable params: 0\n",
      "__________________________________________________________________________________________________\n",
      "None\n"
     ]
    }
   ],
   "source": [
    "if training_needed_flag:\n",
    "    print(\"model not found for sets\", \" so must train it\")\n",
    "                ###############################################################################\n",
    "# create training data if not already created\n",
    "                ###############################################################################\n",
    "    suffix_npy = \"_unet3d\" + rstr + \"_3dto3d_\" + str(blksz_3d[0]) + \"x\" + str(blksz_3d[1]) + \"x\" + str(\n",
    "        blksz_3d[2]) + \"_\" + str(patches_per_set) + \"(\" + str(patches_per_set_h) + \")(\" + str(\n",
    "        patches_per_set_l) + \")\"  + \"_psm\" + str(\n",
    "        patch_select_mode)\n",
    "    if not os.path.exists(os.path.join(script_path, 'xtrain_master_noaug' + suffix_npy + '.npy')):\n",
    "        print(\"training data not found, so must create it\")\n",
    "                    ###############################################################################\n",
    "#create training arrays\n",
    "                    ###############################################################################\n",
    "        totalpatches = len(srcfiles) * patches_per_set\n",
    "\n",
    "        xtrain_master_noaug = np.zeros([totalpatches, blksz_3d[0], blksz_3d[1], input_ch, 1],\n",
    "                                       dtype=np.float32)\n",
    "        ytrain_master_noaug = np.zeros([totalpatches, blksz_3d[0], blksz_3d[1], input_ch, 1],\n",
    "                                       dtype=np.float32)\n",
    "\n",
    "                    # count the number of total slices to learn from during training phase (i.e. loop through all data sets except the one that is being reconstructed)\n",
    "        slice_count = 0  # counter holding number of slices incorporated into training\n",
    "                    ###############################################################################\n",
    "        # load .npy files from disk, display central coronal slice, and fill xtrain and ytrain matrices\n",
    "                    ###############################################################################\n",
    "        slices_per_file = []  # recording the number of slices used for training data extractions\n",
    "        if proj_direction > 0:\n",
    "            n_slices_exclude = n_edge_after_proj\n",
    "\n",
    "        for m, icode in enumerate(srcfiles):  # loop over volumes to train from\n",
    "            print('##############################################')\n",
    "            print('pd file is =>', icode)\n",
    "            ###################################\n",
    "            # load numpy arrays, reproject dataset (if needed) and trim and normalize dataset,\n",
    "            ###################################\n",
    "            volume1, volume1max = load_tiff_volume_and_scale_si(dirsource, icode, crop_train_x,\n",
    "                                                                crop_train_y, blksz_3d[:2], proj_direction,\n",
    "                                                                subset_train_mode, subset_train_minslc,\n",
    "                                                                subset_train_maxslc)\n",
    "\n",
    "            print('wid is =>', tgtfiles[m])\n",
    "            volume3, volume3max = load_tiff_volume_and_scale_si(dirtarget, tgtfiles[m], crop_train_x,\n",
    "                                                                crop_train_y, blksz_3d[:2], proj_direction,\n",
    "                                                                subset_train_mode, subset_train_minslc,\n",
    "                                                                subset_train_maxslc)\n",
    "            # prepare training data for 3D Unet or 3D Residual net\n",
    "            # 3D Unet\n",
    "            # create metric volume used to select blocks\n",
    "            vol_metric, metric_operator, nregions = compute_metric_volume_3d(volume1, volume3,\n",
    "                                                                             patch_select_mode, stride_3d)\n",
    "                        # create the training input (xtrain_master...) and output (ytrain_master...) 3D blocks\n",
    "            if not unet_resnet_mode:\n",
    "                xtrain_master_noaug[m * patches_per_set:(m + 1) * patches_per_set, :, :, :,\n",
    "                0], ytrain_master_noaug[m * patches_per_set:(m + 1) * patches_per_set, :, :, :,\n",
    "                    0], blockvolmap = get_blocks_within_volume(vol_metric, [volume1, volume3], blksz_3d,\n",
    "                                                               stride_3d, patches_per_set_h,\n",
    "                                                               n_lower=patches_per_set_l, seed=m,\n",
    "                                                               shuffleP=blks_rand_shift_mode,\n",
    "                                                               metric_operator=metric_operator,\n",
    "                                                               nregions=nregions, return_bvm=True)\n",
    "            else:\n",
    "                xtrain_master_noaug[m * patches_per_set:(m + 1) * patches_per_set, :, :, :,\n",
    "                0], ytrain_master_noaug[m * patches_per_set:(m + 1) * patches_per_set, :, :, :,\n",
    "                    0], blockvolmap = get_blocks_within_volume(vol_metric,\n",
    "                                                               [volume1, volume3 - volume1],\n",
    "                                                               blksz_3d,\n",
    "                                                               stride_3d,\n",
    "                                                               n_larger=patches_per_set_h,\n",
    "                                                               n_lower=patches_per_set_l,\n",
    "                                                               seed=m,\n",
    "                                                               shuffleP=blks_rand_shift_mode,\n",
    "                                                               metric_operator=metric_operator,\n",
    "                                                               nregions=nregions,\n",
    "                                                               return_bvm=True)\n",
    "            print(np.amax(blockvolmap), np.amin(blockvolmap))\n",
    "            blockvolmap = np.uint16(np.round(\n",
    "                np.float(volume3max / np.amax(blockvolmap)) * np.moveaxis(blockvolmap, -1,\n",
    "                                                                          0)))  # move slices from 3rd dimension to 1st dimension\n",
    "            tifffile.imsave(\n",
    "                'blockvolmap' + suffix_npy + '_' + str(m) + \"_\" + str(nregions) + \"regions.tiff\",\n",
    "                blockvolmap, compress=6)\n",
    "            slices_per_file.append(patches_per_set)\n",
    "            print('train data fitted: m, m*patches_per_set:(m+1)*patches_per_set: ', m, m * patches_per_set,\n",
    "                  (m + 1) * patches_per_set)\n",
    "\n",
    "            if m == (len(srcfiles) - 1):  # if last volume, save the training data to disk\n",
    "                np.save(os.path.join(script_path, 'xtrain_master_noaug' + suffix_npy), xtrain_master_noaug)\n",
    "                np.save(os.path.join(script_path, 'ytrain_master_noaug' + suffix_npy), ytrain_master_noaug)\n",
    "\n",
    "        print('total files read for training: ', len(srcfiles))\n",
    "        print('total slices read for training: ', slice_count)\n",
    "        print('unaugmented patch array size for training: ', xtrain_master_noaug.shape)\n",
    "        print('slices (or blks) read from all the files: ', slices_per_file)\n",
    "    ###############################################################################\n",
    "    # load training data from disk if not already created\n",
    "    ###############################################################################\n",
    "    else:\n",
    "        print(\"training data found, so just load it\")\n",
    "        # load numpy arrays\n",
    "        xtrain_master_noaug = np.load(\n",
    "            os.path.join(script_path, 'xtrain_master_noaug' + suffix_npy + '.npy'))\n",
    "        ytrain_master_noaug = np.load(\n",
    "            os.path.join(script_path, 'ytrain_master_noaug' + suffix_npy + '.npy'))\n",
    "        print('loaded xtrain_master_noaug' + suffix_npy + '.npy' + ' shape: ', xtrain_master_noaug.shape)\n",
    "        print('loaded ytrain_master_noaug' + suffix_npy + '.npy' + ' shape: ', ytrain_master_noaug.shape)\n",
    "    print(\" \")\n",
    "\n",
    "    ###############################################################################\n",
    "    #  flip the data in y, x, an z directions, augmenting by factors of 2, 4, or 8\n",
    "    ###############################################################################\n",
    "    if data_augm_factor >= 2:\n",
    "        xtrain_master = np.concatenate(\n",
    "            (xtrain_master_noaug, np.flip(xtrain_master_noaug, axis=1)))  # flip vertically (y)\n",
    "        ytrain_master = np.concatenate((ytrain_master_noaug, np.flip(ytrain_master_noaug, axis=1)))\n",
    "    if data_augm_factor >= 4:\n",
    "        xtrain_master = np.concatenate(\n",
    "            (xtrain_master, np.flip(xtrain_master, axis=2)))  # flip horizontally (x)\n",
    "        ytrain_master = np.concatenate((ytrain_master, np.flip(ytrain_master, axis=2)))\n",
    "    if data_augm_factor >= 8 and len(xtrain_master_noaug.shape) == 4:\n",
    "        xtrain_master = np.concatenate((xtrain_master, np.flip(xtrain_master, axis=3)))  # flip over (z)\n",
    "        ytrain_master = np.concatenate((ytrain_master, np.flip(ytrain_master, axis=3)))\n",
    "    else:  # no augmentation\n",
    "        ytrain_master = np.copy(ytrain_master_noaug)\n",
    "        xtrain_master = np.copy(xtrain_master_noaug)\n",
    "\n",
    "    shape_xtrain_master_noaug = xtrain_master_noaug.shape\n",
    "    del ytrain_master_noaug\n",
    "    del xtrain_master_noaug\n",
    "\n",
    "    ###############################################################################\n",
    "    # define model and print summary\n",
    "    ###############################################################################\n",
    "\n",
    "    n_loo_loops = 1  # only one network is trained for all data sets\n",
    "\n",
    "    inds_all = np.arange(0, xtrain_master.shape[0] * data_augm_factor)\n",
    "\n",
    "    print('using all data to train network')\n",
    "    inds_to_train_from = np.copy(inds_all)\n",
    "    xtrain = np.copy(xtrain_master[inds_to_train_from, :, :, :])\n",
    "    ytrain = np.copy(ytrain_master[inds_to_train_from, :, :, :])\n",
    "\n",
    "    ###############################################################################\n",
    "    # define model and print summary\n",
    "    ###############################################################################\n",
    "    try:\n",
    "        del model\n",
    "    except:\n",
    "        pass\n",
    "    # 3D Unet\n",
    "    model = unet3d((blksz_3d[0], blksz_3d[1], blksz_3d[2], 1),\n",
    "                   out_ch=input_ch,\n",
    "                   start_ch=unet_start_ch,\n",
    "                   depth=unet_depth,\n",
    "                   inc_rate=unet_inc_rate,\n",
    "                   activation=\"relu\",\n",
    "                   dropout=unet_dropout,\n",
    "                   batchnorm=unet_batchnorm,\n",
    "                   maxpool=True,\n",
    "                   upconv=False,\n",
    "                   residual=unet_residual,\n",
    "                   zdim=input_ch,\n",
    "                   true_unet=True)\n",
    "    print(model.summary())\n",
    "\n",
    "    ###############################################################################\n",
    "    # compile the model\n",
    "    ###############################################################################\n",
    "    \n",
    "    opt = Adam(learning_rate=lr)\n",
    " \n",
    "    if loss_function != 'ssim_loss':\n",
    "        model.compile(loss=loss_function, optimizer=opt)\n",
    "    else:\n",
    "        model.compile(loss=ssim_loss, optimizer=opt, metrics=[ssim_loss, 'accuracy'])\n",
    "\n"
   ]
  },
  {
   "cell_type": "code",
   "execution_count": 17,
   "id": "49a5cc21",
   "metadata": {},
   "outputs": [
    {
     "data": {
      "text/plain": [
       "(1000, 128, 128, 64, 1)"
      ]
     },
     "execution_count": 17,
     "metadata": {},
     "output_type": "execute_result"
    }
   ],
   "source": [
    "xtrain.shape"
   ]
  },
  {
   "cell_type": "code",
   "execution_count": 5,
   "id": "75908bfc",
   "metadata": {},
   "outputs": [
    {
     "data": {
      "text/plain": [
       "array([[0.299389  , 0.24439919, 0.27698573, ..., 0.16293278, 0.1364562 ,\n",
       "        0.        ],\n",
       "       [0.3503055 , 0.35845214, 0.34215885, ..., 0.16496944, 0.15885948,\n",
       "        0.        ],\n",
       "       [0.35845214, 0.33197555, 0.3340122 , ..., 0.18737271, 0.20162933,\n",
       "        0.        ],\n",
       "       ...,\n",
       "       [0.19959266, 0.34826884, 0.32790223, ..., 0.26476577, 0.26680243,\n",
       "        0.        ],\n",
       "       [0.27494907, 0.26272914, 0.26069248, ..., 0.24847251, 0.24643585,\n",
       "        0.        ],\n",
       "       [0.23421589, 0.23014256, 0.25865582, ..., 0.24847251, 0.2688391 ,\n",
       "        0.        ]], dtype=float32)"
      ]
     },
     "execution_count": 5,
     "metadata": {},
     "output_type": "execute_result"
    }
   ],
   "source": [
    "xtrain_master_noaug[1,:,:,0,0]"
   ]
  },
  {
   "cell_type": "code",
   "execution_count": 19,
   "id": "02aa6020",
   "metadata": {},
   "outputs": [
    {
     "data": {
      "image/png": "[encoded data removed]",
      "text/plain": [
       "<Figure size 432x288 with 1 Axes>"
      ]
     },
     "metadata": {
      "needs_background": "light"
     },
     "output_type": "display_data"
    }
   ],
   "source": [
    "plt.imshow(xtrain[3,:,:,0,0], cmap='gray')\n",
    "plt.axis('off');"
   ]
  },
  {
   "cell_type": "code",
   "execution_count": 14,
   "id": "a0a6b45e",
   "metadata": {},
   "outputs": [
    {
     "data": {
      "text/plain": [
       "1000"
      ]
     },
     "execution_count": 14,
     "metadata": {},
     "output_type": "execute_result"
    }
   ],
   "source": [
    "len(xtrain)"
   ]
  },
  {
   "cell_type": "code",
   "execution_count": 7,
   "id": "26720e6a",
   "metadata": {},
   "outputs": [
    {
     "name": "stdout",
     "output_type": "stream",
     "text": [
      "total blocks in the dataset before selection:  48\n",
      "in get_top_block_locations, n_lower  & indx_ravel.shape:  100 (200,)\n",
      "total time obtaining high blocks is using old approach was 0.02982187271118164 seconds\n",
      "mean of whole volume, mean of selected volumes:  0.24182315 ,  0.27171491580943674\n",
      "mean of whole volume, mean of selected volumes:  0.18501124 ,  0.20488915918726922\n"
     ]
    }
   ],
   "source": [
    "ret = get_blocks_within_volume(vol_metric, [volume1, volume3], blksz_3d,\n",
    "                                                               stride_3d, patches_per_set_h,\n",
    "                                                               n_lower=patches_per_set_l, seed=m,\n",
    "                                                               shuffleP=blks_rand_shift_mode,\n",
    "                                                               metric_operator=metric_operator,\n",
    "                                                               nregions=nregions, return_bvm=True)"
   ]
  },
  {
   "cell_type": "code",
   "execution_count": 17,
   "id": "93772203",
   "metadata": {},
   "outputs": [
    {
     "name": "stdout",
     "output_type": "stream",
     "text": [
      "[0 1 2 3 4]\n"
     ]
    }
   ],
   "source": [
    "indexes = np.arange(20)\n",
    "index = 0\n",
    "batch_size = 5\n",
    "idx = indexes[index*batch_size:(index+1)*batch_size]\n",
    "print(idx)"
   ]
  },
  {
   "cell_type": "code",
   "execution_count": 18,
   "id": "00ad7dde",
   "metadata": {},
   "outputs": [],
   "source": [
    "a=np.zeros([10,2,3])"
   ]
  },
  {
   "cell_type": "code",
   "execution_count": 25,
   "id": "f4e6c055",
   "metadata": {},
   "outputs": [
    {
     "data": {
      "text/plain": [
       "(5, 2, 3)"
      ]
     },
     "execution_count": 25,
     "metadata": {},
     "output_type": "execute_result"
    }
   ],
   "source": [
    "np.array([a[i] for i in idx]).shape"
   ]
  },
  {
   "cell_type": "code",
   "execution_count": 30,
   "id": "e2a9dd63",
   "metadata": {},
   "outputs": [
    {
     "data": {
      "text/plain": [
       "10.078125"
      ]
     },
     "execution_count": 30,
     "metadata": {},
     "output_type": "execute_result"
    }
   ],
   "source": [
    "10821304320/1024/1024/1024"
   ]
  },
  {
   "cell_type": "code",
   "execution_count": 1,
   "id": "88c6b322",
   "metadata": {},
   "outputs": [],
   "source": [
    "import tifffile\n",
    "from keras.models import model_from_json\n",
    "\n",
    "from utils import *\n",
    "from models import *\n",
    "\n",
    "\"\"\"\n",
    "key parameters (begin)\n",
    "##############################################################################\n",
    "\"\"\"\n",
    "#combomatrix = [[8, 8, 8, 4, 4, 4, 9, 10000, 10000, 8, False]]\n",
    "combomatrix = [128, 128, 64, 64, 64, 32, 9, 32, 0, 8, False]"
   ]
  },
  {
   "cell_type": "code",
   "execution_count": 7,
   "id": "07f30456",
   "metadata": {},
   "outputs": [],
   "source": [
    "script_path = os.getcwd()\n",
    "image_dir = os.path.join(script_path, \"../../ARIC/pd_wip/pd_nifti_final/pd_test\")\n",
    "imagefiles = [x for x in os.listdir(image_dir) if x.endswith('.gz')]"
   ]
  },
  {
   "cell_type": "code",
   "execution_count": 48,
   "id": "1b363b70",
   "metadata": {},
   "outputs": [],
   "source": [
    "dirmodel = \"train_unet3d_adam_batch20_1aug_proj0psm9_ssim_loss\"\n",
    "modelFileName = 'model_128x128x64x32(32)(0)x1_unet3d-[64x64x32]-psm9-8-4-2-0.5-F-F-batch12.h5'\n",
    "jsonFileName = 'model_128x128x64x32(32)(0)x1_unet3d-[64x64x32]-psm9-8-4-2-0.5-F-F-batch12.json'\n",
    "out_dir = dirmodel+\"/result/\"\n",
    "if not os.path.exists(out_dir):\n",
    "    os.makedirs(out_dir)\n",
    "\n"
   ]
  },
  {
   "cell_type": "code",
   "execution_count": null,
   "id": "88ac648f",
   "metadata": {},
   "outputs": [],
   "source": [
    "model = unet3d((combomatrix[0], combomatrix[1], combomatrix[2], 1),\n",
    "                   out_ch=combomatrix[2],\n",
    "                   start_ch=combomatrix[9],\n",
    "                   depth=4,\n",
    "                   inc_rate=2,\n",
    "                   activation=\"relu\",\n",
    "                   dropout=0.5,\n",
    "                   batchnorm=False,\n",
    "                   maxpool=True,\n",
    "                   upconv=False,\n",
    "                   residual=False,\n",
    "                   zdim=combomatrix[2],\n",
    "                   true_unet=True)\n",
    "model.load_weights(os.path.join(dirmodel, modelFileName))"
   ]
  },
  {
   "cell_type": "code",
   "execution_count": 10,
   "id": "4ecb5565",
   "metadata": {},
   "outputs": [
    {
     "name": "stdout",
     "output_type": "stream",
     "text": [
      "(320, 320, 128)\n",
      "64\n"
     ]
    }
   ],
   "source": [
    "image_name = imagefiles[0]\n",
    "volume1,maxsi = load_tiff_volume_and_scale_si(image_dir, image_name,1,1,0,0,0,0,0) #\n",
    "#volume1 = volume1.transpose(2,0,1)\n",
    "#img = np.expand_dims(volume1,-1)\n",
    "print(volume1.shape)\n"
   ]
  },
  {
   "cell_type": "code",
   "execution_count": 53,
   "id": "1116fd57",
   "metadata": {},
   "outputs": [
    {
     "name": "stdout",
     "output_type": "stream",
     "text": [
      "64\n",
      "(320, 320, 128)\n",
      "(320, 320, 128)\n",
      "(320, 320, 64)\n",
      "(0, 0, 0)\n"
     ]
    }
   ],
   "source": [
    "maxslc = volume1.shape[2]\n",
    "inputMax = np.amax(volume1)\n",
    "input_ch = combomatrix[2] \n",
    "print(input_ch)\n",
    "zstride = input_ch // 2\n",
    "stride_3d = combomatrix[3], combomatrix[4], combomatrix[5] \n",
    "volume_recon_ai = np.zeros([int(stride_3d[0] * np.ceil(volume1.shape[0] / stride_3d[0])),\n",
    "                                int(stride_3d[1] * np.ceil(volume1.shape[1] / stride_3d[1])),\n",
    "                                int(zstride * np.ceil(volume1.shape[2] / (zstride)))], dtype=np.float16)\n",
    "volume1_shape_orig = volume1.shape\n",
    "npadvoxs = tuple(np.subtract(volume_recon_ai.shape, volume1_shape_orig))\n",
    "volume1p = np.pad(volume1, ((0, npadvoxs[0]), (0, npadvoxs[1]), (0, npadvoxs[2])), 'edge') #(320, 320, 128)\n",
    "volume_s = np.zeros([volume1p.shape[0], volume1p.shape[1], input_ch], dtype=np.float16)\n",
    "print(volume_recon_ai.shape)\n",
    "print(volume1.shape)\n",
    "print(volume_s.shape)\n",
    "print(npadvoxs)\n",
    "blk_layers = int(volume_recon_ai.shape[2] / zstride) # 128/32 = 4\n",
    "# if we've expanded the matrix volume_recon_ai w.r.t. volume1 subtract 1 from the number of recon blocks\n",
    "if volume_recon_ai.shape[2] != volume1p.shape[2]:\n",
    "    blk_layers -= 1\n",
    "\n",
    "slc_folding_total = volume_recon_ai.shape[2] - volume1p.shape[2]  # total additional slices we need to add to the stack to reconstruct on a block by block basis in the z direction\n",
    "slc_folding_top = int(slc_folding_total // 2)  # additional slices to add to the top    of the volume\n",
    "slc_folding_bottom = int(slc_folding_total - slc_folding_top)  # additional slices to add to the bottom of the volume\n",
    "maxzposprocessed_volume1 = 0\n",
    "batch_size_recon=16"
   ]
  },
  {
   "cell_type": "code",
   "execution_count": null,
   "id": "5249babf",
   "metadata": {},
   "outputs": [
    {
     "name": "stdout",
     "output_type": "stream",
     "text": [
      "#############################################\n",
      "recon layer 1 of 4\n"
     ]
    }
   ],
   "source": [
    "    debuglogic = False\n",
    "    for iBlks in range(blk_layers):  # loop through reconstruction layers in the z direction\n",
    "        print('#############################################')\n",
    "        print('recon layer', iBlks + 1, 'of', blk_layers)\n",
    "        blk_start = iBlks * zstride  # z (i.e. slice index) of current block being reconstructed\n",
    "        if iBlks == 0:  # for uppermost block\n",
    "            if slc_folding_top > 0:\n",
    "                volume_s[:, :, 0:slc_folding_top] = np.flip(volume1p[:, :, 0:slc_folding_top],2)  # flip upper most slices and place at top of the initial block\n",
    "            volume_s[:, :, slc_folding_top:] = volume1p[:, :, 0:blksz_3d[2] - slc_folding_top]  # place remaining true slices into the block\n",
    "            maxzposprocessed_volume1 = zstride - slc_folding_top\n",
    "            if debuglogic: print(' first blk', iBlks, 'maxzposprocessed_volume1', maxzposprocessed_volume1)\n",
    "        elif iBlks == blk_layers - 1:  # for lowermost block\n",
    "            volume_s[:, :, 0:input_ch - slc_folding_bottom] = volume1p[:, :,\n",
    "                                                              -(input_ch - slc_folding_bottom):]\n",
    "            if slc_folding_bottom > 0:\n",
    "                volume_s[:, :, input_ch - slc_folding_bottom:] = np.flip(\n",
    "                    volume1p[:, :, -slc_folding_bottom:], 2)\n",
    "            if debuglogic: print(' last blk', iBlks, 'maxzposprocessed_volume1', volume1p.shape[2])\n",
    "        else:  # central/middle blocks\n",
    "            volume_s[:, :, :] = volume1p[:, :, maxzposprocessed_volume1:maxzposprocessed_volume1 + input_ch]\n",
    "            maxzposprocessed_volume1 = maxzposprocessed_volume1 + zstride\n",
    "            if debuglogic: print('central blk', iBlks, 'maxzposprocessed_volume1', maxzposprocessed_volume1)\n",
    "\n",
    "        # print('max, min before getBlock: ', np.amax(volume_s), np.amin(volume_s))\n",
    "        xtest = get_patches_2p5d(volume_s, blksz_3d[:2], stride_3d[:2])\n",
    "        # print('max, min after getBlock: ', np.amax(xtest), np.min(xtest))\n",
    "        xtest = np.expand_dims(xtest, axis=4)\n",
    "        if debuglogic:\n",
    "            newimage = np.copy(xtest)  # fast non gpu recon option for debugging code logic\n",
    "        else:\n",
    "            newimage = model.predict(xtest, batch_size=batch_size_recon, verbose=1)  # verbose=1\n",
    "        #del xtest\n",
    "        # print('iBlks, amax(newimage), amin(newimage), newimage.shape: ', iBlks, np.amax(newimage), np.amin(newimage), newimage.shape)\n",
    "        imgshape = newimage.shape\n",
    "        if debuglogic:\n",
    "            dlimage = np.ones((volume1p.shape[0], volume1p.shape[1], input_ch)) * iBlks\n",
    "        else:\n",
    "            dlimage = np.zeros((volume1p.shape[0], volume1p.shape[1], input_ch))\n",
    "\n",
    "        t = time.time()\n",
    "        if debuglogic:\n",
    "            pass\n",
    "        else:\n",
    "            if parallel_recon:\n",
    "                # parallel (fast) computation\n",
    "                num_cores = multiprocessing.cpu_count() - 2\n",
    "                slice_positions = range(input_ch)\n",
    "                print('parallel recon slices', slice_positions, '...')\n",
    "                results = Parallel(n_jobs=num_cores)(\n",
    "                    delayed(reconstruct_from_patches_2d_centerpixels)(newimage[:, :, :, iSlc, 0],\n",
    "                                                                      [volume1p.shape[0],\n",
    "                                                                       volume1p.shape[1]],\n",
    "                                                                      (stride_3d[0], stride_3d[1])) for iSlc\n",
    "                    in slice_positions)\n",
    "                for i, value in enumerate(results):\n",
    "                    dlimage[:, :, i] = np.copy(value)\n",
    "            else:\n",
    "                # sequential (slow) computation\n",
    "                for i in range(input_ch):\n",
    "                    print('serial recon slice', i + 1, 'of', input_ch)\n",
    "                    dlimage[:, :, i] = reconstruct_from_patches_2d_centerpixels(newimage[:, :, :, i, 0],\n",
    "                                                                                [volume1p.shape[0],\n",
    "                                                                                 volume1p.shape[1]], (\n",
    "                                                                                stride_3d[0], stride_3d[1]))\n",
    "            del newimage\n",
    "        elapsed = time.time() - t\n",
    "        print('total time for tiling', input_ch, 'slices was', elapsed, 'seconds')\n",
    "\n",
    "        if input_ch % 2 == 0:\n",
    "            scale_per_slice = 1.0 / (zstride - 1)\n",
    "            odd_input_ch = False\n",
    "        else:\n",
    "            scale_per_slice = 1.0 / zstride\n",
    "            odd_input_ch = True\n",
    "\n",
    "        zoffset = iBlks * zstride\n",
    "        if iBlks == 0:  # uppermost block\n",
    "            for i in range(zstride):\n",
    "                volume_recon_ai[:, :, i] = dlimage[:, :,\n",
    "                                           i]  # place uppermost half of block into the final volume without weighting\n",
    "                if debuglogic: print('slice', i, 'scale', 1)\n",
    "            if odd_input_ch:\n",
    "                volume_recon_ai[:, :, zstride] = dlimage[:, :, zstride]\n",
    "                if debuglogic: print('slice', zstride, 'scale', 1)\n",
    "            for i in range(zstride):\n",
    "                volume_recon_ai[:, :, (input_ch - 1 - i)] += dlimage[:, :,\n",
    "                                                             input_ch - 1 - i] * i * scale_per_slice  # linearly weight with distance from block center\n",
    "                if debuglogic: print('slice', (input_ch - 1 - i), 'scale', i * scale_per_slice)\n",
    "        elif iBlks == blk_layers - 1:  # lowermost block\n",
    "            for i in range(zstride):\n",
    "                volume_recon_ai[:, :, zoffset + i] += dlimage[:, :, i] * i * scale_per_slice\n",
    "                if debuglogic: print('slice', zoffset + i, 'scale', i * scale_per_slice)\n",
    "            try:\n",
    "                if odd_input_ch:\n",
    "                    volume_recon_ai[:, :, zoffset + zstride] += dlimage[:, :, zstride]\n",
    "                    if debuglogic: print('slice', zoffset + zstride, 'scale', 1)\n",
    "            except:\n",
    "                pass\n",
    "            for i in range(zstride):\n",
    "                try:\n",
    "                    volume_recon_ai[:, :, iBlks * zstride + (input_ch - 1 - i)] = dlimage[:, :,\n",
    "                                                                                  input_ch - 1 - i]\n",
    "                    if debuglogic: print('slice', zoffset + (input_ch - 1 - i), 'scale', 1)\n",
    "                except:\n",
    "                    pass\n",
    "        else:  # central blocks\n",
    "            for i in range(zstride):\n",
    "                if (zoffset + i) < maxslc:\n",
    "                    volume_recon_ai[:, :, zoffset + i] += dlimage[:, :, i] * i * scale_per_slice\n",
    "                    if debuglogic: print('slice', zoffset + i, 'scale', i * scale_per_slice)\n",
    "            if odd_input_ch:\n",
    "                volume_recon_ai[:, :, zoffset + zstride] += dlimage[:, :, zstride]\n",
    "                if debuglogic: print('slice', zoffset + zstride, 'scale', 1)\n",
    "            for i in range(zstride):\n",
    "                if (zoffset + (input_ch - 1 - i)) < maxslc:\n",
    "                    volume_recon_ai[:, :, zoffset + (input_ch - 1 - i)] += dlimage[:, :,\n",
    "                                                                           input_ch - 1 - i] * i * scale_per_slice\n",
    "                    if debuglogic: print('slice', zoffset + (input_ch - 1 - i), i * scale_per_slice)\n",
    "\n",
    "    if np.sum(npadvoxs) > 0:  # crop to original input volume size\n",
    "        if volume_recon_ai.shape[2] != volume1_shape_orig[2]:\n",
    "            volume_recon_ai = volume_recon_ai[:volume_recon_ai.shape[0] - npadvoxs[0],\n",
    "                              :volume_recon_ai.shape[1] - npadvoxs[1],\n",
    "                              :volume_recon_ai.shape[2] - npadvoxs[2]]\n",
    "        else:\n",
    "            volume_recon_ai = volume_recon_ai[:volume_recon_ai.shape[0] - npadvoxs[0],\n",
    "                              :volume_recon_ai.shape[1] - npadvoxs[1], :]\n",
    "\n",
    "    # write reconstruction to multipage tiff stack\n",
    "    volume_recon_ai = undo_reproject(volume_recon_ai, proj_direction)  # switch back to x,y,z order\n",
    "    if unet_resnet_mode:\n",
    "        volume1 = undo_reproject(volume1, proj_direction)  # switch back to x,y,z order\n",
    "\n",
    "    if unet_resnet_mode:  # if in unet resnet mode add output of network to lower quality input\n",
    "        print('data_airecon.shape, volume1.shape: ', volume_recon_ai.shape, volume1.shape)\n",
    "        volume_recon_ai = volume_recon_ai + volume1\n",
    "        volume_recon_ai[volume_recon_ai < 0] = 0  # replace negative values with zeros\n",
    "\n",
    "    # save to disk\n",
    "    ai_max = np.amax(volume_recon_ai)\n",
    "    data_airecon = np.uint16(np.round(np.float(inputMax) / ai_max) * np.moveaxis(volume_recon_ai, -1,\n",
    "                                                                                 0))  # move slices from 3rd dimension to 1st dimension\n",
    "    \n",
    "    #tifffile.imsave(reconFileName_final, data_airecon, compress=6)\n",
    "    FileSave(data_airecon, out_dir+image_name)\n",
    "    #del volume_recon_ai, volume1  # delete to save memory\n",
    "\n"
   ]
  },
  {
   "cell_type": "code",
   "execution_count": 32,
   "id": "2a4f8689",
   "metadata": {},
   "outputs": [
    {
     "data": {
      "image/png": "[encoded data removed]",
      "text/plain": [
       "<Figure size 432x288 with 1 Axes>"
      ]
     },
     "metadata": {
      "needs_background": "light"
     },
     "output_type": "display_data"
    }
   ],
   "source": [
    "plt.imshow(data_airecon[100,:,:], cmap='gray')\n",
    "plt.axis('off');"
   ]
  },
  {
   "cell_type": "code",
   "execution_count": 47,
   "id": "8a66680e",
   "metadata": {},
   "outputs": [
    {
     "data": {
      "image/png": "[encoded data removed]",
      "text/plain": [
       "<Figure size 432x288 with 1 Axes>"
      ]
     },
     "metadata": {
      "needs_background": "light"
     },
     "output_type": "display_data"
    }
   ],
   "source": [
    "\n",
    "plt.imshow(xtest[15,:,:,1,:], cmap='gray')\n",
    "plt.axis('off');"
   ]
  },
  {
   "cell_type": "markdown",
   "id": "14f75e4b",
   "metadata": {},
   "source": [
    "### "
   ]
  },
  {
   "cell_type": "code",
   "execution_count": 49,
   "id": "c6f1eeaa",
   "metadata": {},
   "outputs": [
    {
     "data": {
      "text/plain": [
       "(128, 320, 320)"
      ]
     },
     "execution_count": 49,
     "metadata": {},
     "output_type": "execute_result"
    }
   ],
   "source": [
    "data_airecon.shape"
   ]
  },
  {
   "cell_type": "code",
   "execution_count": 52,
   "id": "6e695476",
   "metadata": {},
   "outputs": [
    {
     "data": {
      "text/plain": [
       "(16, 128, 128, 64, 1)"
      ]
     },
     "execution_count": 52,
     "metadata": {},
     "output_type": "execute_result"
    }
   ],
   "source": [
    "xtest.shape"
   ]
  },
  {
   "cell_type": "code",
   "execution_count": null,
   "id": "6d4d0739",
   "metadata": {},
   "outputs": [],
   "source": []
  }
 ],
 "metadata": {
  "kernelspec": {
   "display_name": "Python 3",
   "language": "python",
   "name": "python3"
  },
  "language_info": {
   "codemirror_mode": {
    "name": "ipython",
    "version": 3
   },
   "file_extension": ".py",
   "mimetype": "text/x-python",
   "name": "python",
   "nbconvert_exporter": "python",
   "pygments_lexer": "ipython3",
   "version": "3.8.8"
  }
 },
 "nbformat": 4,
 "nbformat_minor": 5
}
