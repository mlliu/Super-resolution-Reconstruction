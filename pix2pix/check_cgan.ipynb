{
 "cells": [
  {
   "cell_type": "code",
   "execution_count": 1,
   "id": "edaa5b4a",
   "metadata": {},
   "outputs": [],
   "source": [
    "from __future__ import print_function\n",
    "import argparse\n",
    "import os\n",
    "from math import log10\n",
    "\n",
    "import torch\n",
    "import torch.nn as nn\n",
    "import torch.optim as optim\n",
    "from torch.utils.data import Dataset, DataLoader\n",
    "import torch.backends.cudnn as cudnn\n",
    "\n",
    "from networks import define_G, define_D, GANLoss, get_scheduler, update_learning_rate\n",
    "from data import get_dataset,get_training_set,get_test_set\n",
    "from networks import *"
   ]
  },
  {
   "cell_type": "code",
   "execution_count": 2,
   "id": "72a2e7f0",
   "metadata": {},
   "outputs": [
    {
     "name": "stderr",
     "output_type": "stream",
     "text": [
      "usage: ipykernel_launcher.py [-h] [--batch_size BATCH_SIZE]\n",
      "                             [--test_batch_size TEST_BATCH_SIZE]\n",
      "                             [--direction DIRECTION] [--input_nc INPUT_NC]\n",
      "                             [--output_nc OUTPUT_NC] [--ngf NGF] [--ndf NDF]\n",
      "                             [--epoch_count EPOCH_COUNT] [--niter NITER]\n",
      "                             [--niter_decay NITER_DECAY] [--lr LR]\n",
      "                             [--lr_policy LR_POLICY]\n",
      "                             [--lr_decay_iters LR_DECAY_ITERS] [--beta1 BETA1]\n",
      "                             [--cuda] [--threads THREADS] [--seed SEED]\n",
      "                             [--lamb LAMB]\n",
      "ipykernel_launcher.py: error: unrecognized arguments: -f /users/mliu/.local/share/jupyter/runtime/kernel-04020947-c650-44cf-a0ba-75d2283d7d1d.json\n"
     ]
    },
    {
     "ename": "SystemExit",
     "evalue": "2",
     "output_type": "error",
     "traceback": [
      "An exception has occurred, use %tb to see the full traceback.\n",
      "\u001b[0;31mSystemExit\u001b[0m\u001b[0;31m:\u001b[0m 2\n"
     ]
    },
    {
     "name": "stderr",
     "output_type": "stream",
     "text": [
      "/jhpce/shared/jhpce/core/python/3.9.10/lib/python3.9/site-packages/IPython/core/interactiveshell.py:3406: UserWarning: To exit: use 'exit', 'quit', or Ctrl-D.\n",
      "  warn(\"To exit: use 'exit', 'quit', or Ctrl-D.\", stacklevel=1)\n"
     ]
    }
   ],
   "source": [
    "# Training settings\n",
    "parser = argparse.ArgumentParser(description='pix2pix-pytorch-implementation')\n",
    "#parser.add_argument('--dataset', required=True, help='facades')\n",
    "parser.add_argument('--batch_size', type=int, default=1, help='training batch size')\n",
    "parser.add_argument('--test_batch_size', type=int, default=1, help='testing batch size')\n",
    "parser.add_argument('--direction', type=str, default='b2a', help='a2b or b2a')\n",
    "parser.add_argument('--input_nc', type=int, default=1, help='input image channels')\n",
    "parser.add_argument('--output_nc', type=int, default=1, help='output image channels')\n",
    "parser.add_argument('--ngf', type=int, default=32, help='generator filters in first conv layer')\n",
    "parser.add_argument('--ndf', type=int, default=32, help='discriminator filters in first conv layer')\n",
    "parser.add_argument('--epoch_count', type=int, default=1, help='the starting epoch count')\n",
    "parser.add_argument('--niter', type=int, default=100, help='# of iter at starting learning rate')\n",
    "parser.add_argument('--niter_decay', type=int, default=100, help='# of iter to linearly decay learning rate to zero')\n",
    "parser.add_argument('--lr', type=float, default=0.0002, help='initial learning rate for adam')\n",
    "parser.add_argument('--lr_policy', type=str, default='lambda', help='learning rate policy: lambda|step|plateau|cosine')\n",
    "parser.add_argument('--lr_decay_iters', type=int, default=50, help='multiply by a gamma every lr_decay_iters iterations')\n",
    "parser.add_argument('--beta1', type=float, default=0.5, help='beta1 for adam. default=0.5')\n",
    "parser.add_argument('--cuda', action='store_true', help='use cuda?')\n",
    "parser.add_argument('--threads', type=int, default=4, help='number of threads for data loader to use')\n",
    "parser.add_argument('--seed', type=int, default=123, help='random seed to use. Default=123')\n",
    "parser.add_argument('--lamb', type=int, default=10, help='weight on L1 term in objective')\n",
    "opt = parser.parse_args()"
   ]
  },
  {
   "cell_type": "code",
   "execution_count": 3,
   "id": "9dc268ce-bdad-4614-a8ba-c7b4e853b3f6",
   "metadata": {},
   "outputs": [
    {
     "name": "stdout",
     "output_type": "stream",
     "text": [
      "training data found, so just load it\n",
      "loaded xtrain_master_noaug_unet2d_320x320x120(60)(60)_[320x320]_psm9.npy shape:  (600, 320, 320, 1)\n",
      "loaded ytrain_master_noaug_unet2d_320x320x120(60)(60)_[320x320]_psm9.npy shape:  (600, 320, 320, 1)\n",
      "use 80% for training, 20% for testing\n"
     ]
    },
    {
     "name": "stderr",
     "output_type": "stream",
     "text": [
      "/users/mliu/.local/lib/python3.9/site-packages/torch/utils/data/dataloader.py:554: UserWarning: This DataLoader will create 4 worker processes in total. Our suggested max number of worker in current system is 2, which is smaller than what this DataLoader is going to create. Please be aware that excessive worker creation might get DataLoader running slow or even freeze, lower the worker number to avoid potential slowness/freeze if necessary.\n",
      "  warnings.warn(_create_warning_msg(\n"
     ]
    }
   ],
   "source": [
    "root_path = \"dataset/\"\n",
    "xtrain,ytrain,xtest,ytest = get_dataset()\n",
    "train_set = get_training_set(xtrain,ytrain)\n",
    "test_set = get_test_set(xtest,ytest)\n",
    "\n",
    "training_data_loader = DataLoader(dataset=train_set, num_workers=4, batch_size=1, shuffle=True)\n",
    "testing_data_loader = DataLoader(dataset=test_set, num_workers=4, batch_size=1, shuffle=False)"
   ]
  },
  {
   "cell_type": "code",
   "execution_count": 13,
   "id": "ed3a4c76-828b-409a-9a85-72738ffafade",
   "metadata": {},
   "outputs": [
    {
     "name": "stdout",
     "output_type": "stream",
     "text": [
      "iteration 1\n",
      "torch.Size([1, 1, 320, 320])\n",
      "torch.Size([1, 1, 320, 320])\n"
     ]
    }
   ],
   "source": [
    "for iteration, batch in enumerate(training_data_loader, 1):\n",
    "    print(\"iteration\", iteration)\n",
    "    # forward\n",
    "    real_a,real_b = batch[0],batch[1]\n",
    "    print(batch[0].shape)\n",
    "    print(batch[1].shape)\n",
    "    break"
   ]
  },
  {
   "cell_type": "code",
   "execution_count": 5,
   "id": "41ec5e40-cc6b-4509-8772-d2704b2bb559",
   "metadata": {},
   "outputs": [
    {
     "name": "stdout",
     "output_type": "stream",
     "text": [
      "device is:  cpu\n",
      "initialize network with normal\n",
      "initialize network with normal\n"
     ]
    }
   ],
   "source": [
    "device = torch.device(\"cuda:0\" if False else \"cpu\")\n",
    "print(\"device is: \",device)\n",
    "net_g = define_G(1, 1, 32, 'batch', False, 'normal', 0.02, gpu_id=device)\n",
    "net_d = define_D(1+1, 32, 'basic', gpu_id=device)"
   ]
  },
  {
   "cell_type": "code",
   "execution_count": 6,
   "id": "0711cee0-e482-4ddb-90a6-ab19a5812743",
   "metadata": {},
   "outputs": [],
   "source": [
    "fake_b = net_g(real_a)"
   ]
  },
  {
   "cell_type": "code",
   "execution_count": 7,
   "id": "d886c035-8c89-4c85-ad67-8c9f59168688",
   "metadata": {},
   "outputs": [
    {
     "data": {
      "text/plain": [
       "torch.Size([1, 1, 320, 320])"
      ]
     },
     "execution_count": 7,
     "metadata": {},
     "output_type": "execute_result"
    }
   ],
   "source": [
    "fake_b.shape"
   ]
  },
  {
   "cell_type": "code",
   "execution_count": 8,
   "id": "b6ff4f42-f23d-4556-9a5d-9e86ad3ece0f",
   "metadata": {},
   "outputs": [],
   "source": [
    "class Inconv(nn.Module):\n",
    "    def __init__(self, in_ch, out_ch, norm_layer, use_bias):\n",
    "        super(Inconv, self).__init__()\n",
    "        self.inconv = nn.Sequential(\n",
    "            #nn.ReflectionPad2d(3),\n",
    "            nn.Conv2d(in_ch, out_ch, kernel_size=7, padding='same',\n",
    "                      bias=use_bias),\n",
    "            norm_layer(out_ch),\n",
    "            nn.ReLU(True)\n",
    "        )\n",
    "\n",
    "    def forward(self, x):\n",
    "        x = self.inconv(x)\n",
    "        return x"
   ]
  },
  {
   "cell_type": "code",
   "execution_count": 9,
   "id": "bf96c2b2-90bc-439b-b706-dcaf74d47985",
   "metadata": {},
   "outputs": [],
   "source": [
    "norm_layer=nn.BatchNorm2d\n",
    "padding_type='reflect'\n",
    "n_blocks=9\n",
    "ngf = 32\n",
    "if type(norm_layer) == functools.partial:\n",
    "    use_bias = norm_layer.func == nn.InstanceNorm2d\n",
    "else:\n",
    "    use_bias = norm_layer == nn.InstanceNorm2d\n",
    "inc = Inconv(1, 32, norm_layer, use_bias)\n",
    "down1 = Down(ngf, ngf * 2, norm_layer, use_bias)\n",
    "down2 = Down(ngf * 2, ngf * 4, norm_layer, use_bias)\n",
    "\n",
    "model = []\n",
    "for i in range(n_blocks):\n",
    "    model += [ResBlock(ngf * 4, padding_type=padding_type, norm_layer=norm_layer, use_dropout=False, use_bias=use_bias)]\n",
    "resblocks = nn.Sequential(*model)\n",
    "\n",
    "up1 = Up(ngf * 4, ngf * 2, norm_layer, use_bias)\n",
    "up2 = Up(ngf * 2, ngf, norm_layer, use_bias)\n",
    "\n",
    "outc = Outconv(ngf, 1)"
   ]
  },
  {
   "cell_type": "code",
   "execution_count": 10,
   "id": "f4e26de2-a363-4d3e-994c-69091e408fbc",
   "metadata": {},
   "outputs": [],
   "source": [
    "out = {}\n",
    "out['in'] = inc(real_a)\n",
    "out['d1'] = down1(out['in'])\n",
    "out['d2'] = down2(out['d1'])\n",
    "out['bottle'] = resblocks(out['d2'])\n",
    "out['u1'] = up1(out['bottle'])\n",
    "out['u2'] = up2(out['u1'])"
   ]
  },
  {
   "cell_type": "code",
   "execution_count": 11,
   "id": "cd961ca0-8512-4f5b-9ee7-70dd5c8384f1",
   "metadata": {},
   "outputs": [
    {
     "name": "stdout",
     "output_type": "stream",
     "text": [
      "in torch.Size([1, 32, 320, 320])\n",
      "d1 torch.Size([1, 64, 160, 160])\n",
      "d2 torch.Size([1, 128, 80, 80])\n",
      "bottle torch.Size([1, 128, 80, 80])\n",
      "u1 torch.Size([1, 64, 160, 160])\n",
      "u2 torch.Size([1, 32, 320, 320])\n"
     ]
    }
   ],
   "source": [
    "for k, v in out.items():\n",
    "    print(k,v.shape)"
   ]
  },
  {
   "cell_type": "code",
   "execution_count": 14,
   "id": "e8b3a329-770d-4016-9f10-cb5370db5de5",
   "metadata": {},
   "outputs": [],
   "source": [
    "real_ab = torch.cat((real_a, real_b), 1)\n",
    "pred_real = net_d.forward(real_ab)"
   ]
  },
  {
   "cell_type": "code",
   "execution_count": 18,
   "id": "8a02221d-c02b-4b5f-a89f-c80becde5a55",
   "metadata": {},
   "outputs": [
    {
     "name": "stdout",
     "output_type": "stream",
     "text": [
      "torch.Size([1, 1, 38, 38])\n",
      "tensor([[[[-0.4014, -0.6953, -0.2937,  ..., -0.7815, -0.8776, -0.1942],\n",
      "          [-0.5678, -0.2522, -0.3157,  ...,  0.8800, -0.6010, -0.7858],\n",
      "          [-0.1545,  0.5837, -0.3837,  ..., -0.7986, -0.7749,  0.4032],\n",
      "          ...,\n",
      "          [ 0.3081,  0.0921, -0.0438,  ..., -0.5488, -0.7284,  0.5330],\n",
      "          [ 0.7234,  0.2641,  1.2546,  ..., -0.0343, -0.5093,  0.6580],\n",
      "          [ 0.2297, -0.0526,  0.3564,  ...,  0.5945,  0.1578,  0.3585]]]],\n",
      "       grad_fn=<ConvolutionBackward0>)\n"
     ]
    }
   ],
   "source": [
    "print(pred_real.shape)\n",
    "print(pred_real)"
   ]
  },
  {
   "cell_type": "code",
   "execution_count": 17,
   "id": "5256cf08-9bf1-4d8a-abde-8bdab89b45cf",
   "metadata": {},
   "outputs": [
    {
     "data": {
      "text/plain": [
       "torch.Size([1, 2, 320, 320])"
      ]
     },
     "execution_count": 17,
     "metadata": {},
     "output_type": "execute_result"
    }
   ],
   "source": [
    "real_ab.shape"
   ]
  },
  {
   "cell_type": "code",
   "execution_count": null,
   "id": "ed062d48-7b48-401e-a89a-9cb8da8a8611",
   "metadata": {},
   "outputs": [],
   "source": []
  }
 ],
 "metadata": {
  "kernelspec": {
   "display_name": "Python 3 (ipykernel)",
   "language": "python",
   "name": "python3"
  },
  "language_info": {
   "codemirror_mode": {
    "name": "ipython",
    "version": 3
   },
   "file_extension": ".py",
   "mimetype": "text/x-python",
   "name": "python",
   "nbconvert_exporter": "python",
   "pygments_lexer": "ipython3",
   "version": "3.9.10"
  }
 },
 "nbformat": 4,
 "nbformat_minor": 5
}
